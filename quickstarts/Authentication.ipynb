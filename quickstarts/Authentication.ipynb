{
  "cells": [
    {
      "cell_type": "markdown",
      "metadata": {
        "id": "view-in-github",
        "colab_type": "text"
      },
      "source": [
        "<a href=\"https://colab.research.google.com/github/MIXNATTANONGEN/artskmz.009/blob/main/quickstarts/Authentication.ipynb\" target=\"_parent\"><img src=\"https://colab.research.google.com/assets/colab-badge.svg\" alt=\"Open In Colab\"/></a>"
      ]
    },
    {
      "cell_type": "markdown",
      "metadata": {
        "id": "Tce3stUlHN0L"
      },
      "source": [
        "##### Copyright 2025 Google LLC."
      ]
    },
    {
      "cell_type": "code",
      "execution_count": 1,
      "metadata": {
        "cellView": "form",
        "id": "tuOe1ymfHZPu"
      },
      "outputs": [],
      "source": [
        "# @title Licensed under the Apache License, Version 2.0 (the \"License\");\n",
        "# you may not use this file except in compliance with the License.\n",
        "# You may obtain a copy of the License at\n",
        "#\n",
        "# https://www.apache.org/licenses/LICENSE-2.0\n",
        "#\n",
        "# Unless required by applicable law or agreed to in writing, software\n",
        "# distributed under the License is distributed on an \"AS IS\" BASIS,\n",
        "# WITHOUT WARRANTIES OR CONDITIONS OF ANY KIND, either express or implied.\n",
        "# See the License for the specific language governing permissions and\n",
        "# limitations under the License."
      ]
    },
    {
      "cell_type": "markdown",
      "metadata": {
        "id": "yeadDkMiISin"
      },
      "source": [
        "# Gemini API: Authentication Quickstart"
      ]
    },
    {
      "cell_type": "markdown",
      "metadata": {
        "id": "lEXQ3OwKIa-O"
      },
      "source": [
        "<a target=\"_blank\" href=\"https://colab.research.google.com/github/google-gemini/cookbook/blob/main/quickstarts/Authentication.ipynb\"><img src=\"https://colab.research.google.com/assets/colab-badge.svg\" height=30/></a>"
      ]
    },
    {
      "cell_type": "markdown",
      "metadata": {
        "id": "df1767a3d1cc"
      },
      "source": [
        "The Gemini API uses API keys for authentication. This notebook walks you through creating an API key, and using it with the Python SDK or a command-line tool like `curl`."
      ]
    },
    {
      "cell_type": "markdown",
      "metadata": {
        "id": "mhFKmRmxi5B-"
      },
      "source": [
        "## Create an API key\n",
        "\n",
        "You can [create](https://aistudio.google.com/app/apikey) your API key using Google AI Studio with a single click.  \n",
        "\n",
        "Remember to treat your API key like a password. Don't accidentally save it in a notebook or source file you later commit to GitHub. This notebook shows you two ways you can securely store your API key.\n",
        "\n",
        "* If you're using Google Colab, it's recommended to store your key in Colab Secrets.\n",
        "\n",
        "* If you're using a different development environment (or calling the Gemini API through `cURL` in your terminal), it's recommended to store your key in an [environment variable](https://en.wikipedia.org/wiki/Environment_variable).\n",
        "\n",
        "Let's start with Colab Secrets."
      ]
    },
    {
      "cell_type": "markdown",
      "metadata": {
        "id": "dEoigYI9Jw_K"
      },
      "source": [
        "## Add your key to Colab Secrets\n",
        "\n",
        "Add your API key to the Colab Secrets manager to securely store it.\n",
        "\n",
        "1. Open your Google Colab notebook and click on the 🔑 **Secrets** tab in the left panel.\n",
        "   \n",
        "   <img src=\"https://storage.googleapis.com/generativeai-downloads/images/secrets.jpg\" alt=\"You can find the Secrets tab on the left panel.\" width=50%>\n",
        "\n",
        "2. Create a new secret with the name `GOOGLE_API_KEY`.\n",
        "3. Copy and paste your API key into the `Value` input box of `GOOGLE_API_KEY`.\n",
        "4. Toggle the button on the left to allow all notebooks access to the secret.\n"
      ]
    },
    {
      "cell_type": "markdown",
      "metadata": {
        "id": "jRY1eioF4gUB"
      },
      "source": [
        "## Install the Python SDK"
      ]
    },
    {
      "cell_type": "code",
      "execution_count": 2,
      "metadata": {
        "id": "xuiLSV7amy3P",
        "outputId": "694296cc-36ac-4c80-8050-0cf3bd453876",
        "colab": {
          "base_uri": "https://localhost:8080/"
        }
      },
      "outputs": [
        {
          "output_type": "stream",
          "name": "stdout",
          "text": [
            "\u001b[2K     \u001b[90m━━━━━━━━━━━━━━━━━━━━━━━━━━━━━━━━━━━━━━━━\u001b[0m \u001b[32m45.4/45.4 kB\u001b[0m \u001b[31m1.8 MB/s\u001b[0m eta \u001b[36m0:00:00\u001b[0m\n",
            "\u001b[2K   \u001b[90m━━━━━━━━━━━━━━━━━━━━━━━━━━━━━━━━━━━━━━━━\u001b[0m \u001b[32m245.9/245.9 kB\u001b[0m \u001b[31m7.3 MB/s\u001b[0m eta \u001b[36m0:00:00\u001b[0m\n",
            "\u001b[?25h\u001b[31mERROR: pip's dependency resolver does not currently take into account all the packages that are installed. This behaviour is the source of the following dependency conflicts.\n",
            "google-adk 1.15.1 requires google-genai!=1.37.0,!=1.38.0,!=1.39.0,<=1.40.0,>=1.21.1, but you have google-genai 1.41.0 which is incompatible.\u001b[0m\u001b[31m\n",
            "\u001b[0m"
          ]
        }
      ],
      "source": [
        "%pip install -qU 'google-genai>=1.0.0'"
      ]
    },
    {
      "cell_type": "markdown",
      "metadata": {
        "id": "3dw8ygh74mVc"
      },
      "source": [
        "## Configure the SDK with your API key\n",
        "\n",
        "You create a client using your API key, but instead of pasting your key into the notebook, you'll read it from Colab Secrets thanks to `userdata`."
      ]
    },
    {
      "cell_type": "code",
      "execution_count": 3,
      "metadata": {
        "id": "DTl-qZp34sht"
      },
      "outputs": [],
      "source": [
        "from google import genai\n",
        "from google.colab import userdata\n",
        "\n",
        "GOOGLE_API_KEY = userdata.get('GOOGLE_API_KEY')\n",
        "client = genai.Client(api_key=GOOGLE_API_KEY)"
      ]
    },
    {
      "cell_type": "markdown",
      "metadata": {
        "id": "b7ceb7517bf5"
      },
      "source": [
        "Now choose a model. The Gemini API offers different models that are optimized for specific use cases. For more information check [Gemini models](https://ai.google.dev/gemini-api/docs/models)"
      ]
    },
    {
      "cell_type": "code",
      "execution_count": 4,
      "metadata": {
        "id": "7135d9ae3e4b"
      },
      "outputs": [],
      "source": [
        "MODEL_ID = \"gemini-2.5-pro\" # @param [\"gemini-2.5-flash-lite\", \"gemini-2.5-flash-lite-preview-09-2025\", \"gemini-2.5-flash\", \"gemini-2.5-flash-preview-09-2025\", \"gemini-2.5-pro\"] {\"allow-input\":true, isTemplate: true}"
      ]
    },
    {
      "cell_type": "markdown",
      "metadata": {
        "id": "tr7oAO6-nMsE"
      },
      "source": [
        "And that's it! Now you're ready to call the Gemini API."
      ]
    },
    {
      "cell_type": "code",
      "execution_count": 5,
      "metadata": {
        "id": "n6sXnWrJoKoo",
        "outputId": "b2a20c79-e5be-422c-a8d6-418e1702b4d1",
        "colab": {
          "base_uri": "https://localhost:8080/",
          "height": 1000
        }
      },
      "outputs": [
        {
          "output_type": "display_data",
          "data": {
            "text/plain": [
              "<IPython.core.display.Markdown object>"
            ],
            "text/markdown": "Python provides very straightforward and efficient ways to sort lists. There are two primary methods:\n\n1.  **`list.sort()`**: This method sorts the list **in-place**, meaning it modifies the original list and does not return a new list.\n2.  **`sorted()` built-in function**: This function returns a **new sorted list**, leaving the original list unchanged. It can sort any iterable (lists, tuples, strings, etc.).\n\nLet's look at examples for both.\n\n---\n\n## 1. Using `list.sort()` (In-place sorting)\n\nThis method is called directly on a list object.\n\n```python\n# Example 1: Basic ascending sort (default)\nmy_list = [3, 1, 4, 1, 5, 9, 2, 6]\nprint(\"Original list:\", my_list)\n\nmy_list.sort() # Sorts the list in-place\nprint(\"Sorted (ascending):\", my_list)\n\n# Example 2: Descending sort\nmy_list = [3, 1, 4, 1, 5, 9, 2, 6]\nmy_list.sort(reverse=True) # Sorts in-place, in reverse order\nprint(\"Sorted (descending):\", my_list)\n\n# Example 3: Sorting a list of strings\nwords = [\"banana\", \"apple\", \"grape\", \"kiwi\", \"orange\"]\nwords.sort()\nprint(\"Sorted words (alphabetical):\", words)\n\n# Example 4: Sorting with a custom key (e.g., by length of strings)\nwords = [\"banana\", \"apple\", \"grape\", \"kiwi\", \"orange\"]\nwords.sort(key=len) # Sorts by the length of each string\nprint(\"Sorted words (by length):\", words)\n\n# Example 5: Sorting a list of dictionaries by a specific key\nstudents = [\n    {'name': 'Alice', 'age': 30, 'score': 85},\n    {'name': 'Bob', 'age': 25, 'score': 92},\n    {'name': 'Charlie', 'age': 35, 'score': 78}\n]\n\n# Sort by 'score' in ascending order\nstudents.sort(key=lambda student: student['score'])\nprint(\"\\nSorted students by score (ascending):\")\nfor s in students:\n    print(s)\n\n# Sort by 'age' in descending order\nstudents.sort(key=lambda student: student['age'], reverse=True)\nprint(\"\\nSorted students by age (descending):\")\nfor s in students:\n    print(s)\n```\n\n**Key point about `list.sort()`:** It modifies the list directly and returns `None`. If you try to assign its result, you'll get `None`.\n```python\nmy_list = [3, 1, 2]\nresult = my_list.sort()\nprint(result) # Output: None\nprint(my_list) # Output: [1, 2, 3]\n```\n\n---\n\n## 2. Using `sorted()` (Returns a new sorted list)\n\nThis built-in function takes an iterable (like a list, tuple, or string) and returns a *new* sorted list. The original iterable remains unchanged.\n\n```python\n# Example 1: Basic ascending sort (default)\nmy_list = [3, 1, 4, 1, 5, 9, 2, 6]\nprint(\"Original list:\", my_list)\n\nnew_sorted_list = sorted(my_list) # Returns a new sorted list\nprint(\"New sorted list (ascending):\", new_sorted_list)\nprint(\"Original list (unchanged):\", my_list)\n\n# Example 2: Descending sort\nmy_list = [3, 1, 4, 1, 5, 9, 2, 6]\nnew_desc_list = sorted(my_list, reverse=True) # Returns a new sorted list in reverse order\nprint(\"New sorted list (descending):\", new_desc_list)\n\n# Example 3: Sorting other iterables (e.g., a tuple)\nmy_tuple = (5, 2, 8, 1, 9)\nnew_list_from_tuple = sorted(my_tuple)\nprint(\"Sorted list from tuple:\", new_list_from_tuple)\nprint(\"Original tuple (unchanged):\", my_tuple)\n\n# Example 4: Sorting with a custom key (e.g., by absolute value)\nnumbers = [-3, 1, -4, 2, -5]\nsorted_by_abs = sorted(numbers, key=abs)\nprint(\"Sorted by absolute value:\", sorted_by_abs) # Output: [1, 2, -3, -4, -5] (original order for equal abs values)\n\n# Example 5: Sorting a list of dictionaries by a specific key (same as before, but with new list)\nstudents = [\n    {'name': 'Alice', 'age': 30, 'score': 85},\n    {'name': 'Bob', 'age': 25, 'score': 92},\n    {'name': 'Charlie', 'age': 35, 'score': 78}\n]\n\n# Sort by 'name' in alphabetical order\nsorted_students_by_name = sorted(students, key=lambda student: student['name'])\nprint(\"\\nNew sorted students by name:\")\nfor s in sorted_students_by_name:\n    print(s)\n\nprint(\"\\nOriginal students list (unchanged):\", students)\n```\n\n---\n\n## Which one to choose?\n\n*   **Use `list.sort()`** when you:\n    *   Don't need to preserve the original order of the list.\n    *   Are working with a list and want to modify it directly to save memory (as it doesn't create a new list).\n*   **Use `sorted()`** when you:\n    *   Need to keep the original list unchanged.\n    *   Want to sort an iterable that isn't a list (like a tuple, set, or even a dictionary's keys/values) and get a new list as the result.\n\nBoth methods are highly optimized and use Python's Timsort algorithm, which is a hybrid stable sorting algorithm designed to perform well on a variety of real-world data."
          },
          "metadata": {}
        }
      ],
      "source": [
        "from IPython.display import Markdown\n",
        "\n",
        "response = client.models.generate_content(\n",
        "    model=MODEL_ID,\n",
        "    contents=\"Please give me python code to sort a list.\"\n",
        ")\n",
        "\n",
        "display(Markdown(response.text))"
      ]
    },
    {
      "cell_type": "markdown",
      "metadata": {
        "id": "BTdQtZri1Brs"
      },
      "source": [
        "## Store your key in an environment variable"
      ]
    },
    {
      "cell_type": "markdown",
      "metadata": {
        "id": "gZDX51Y27pN4"
      },
      "source": [
        "If you're using a different development environment (or calling the Gemini API through `cURL` in your terminal), it's recommended to store your key in an environment variable.\n",
        "\n",
        "To store your key in an environment variable, open your terminal and run:\n",
        "\n",
        "```export GOOGLE_API_KEY=\"YOUR_API_KEY\"```\n",
        "\n",
        "If you're using Python, you can add these two lines to your notebook to read the key:\n",
        "\n",
        "```\n",
        "import os\n",
        "client = genai.Client(api_key=os.environ['GOOGLE_API_KEY'])\n",
        "```\n",
        "\n",
        "Alternatively, if it isn't provided explicitly, the client will look for the API key.\n",
        "\n",
        "```\n",
        "client = genai.Client()\n",
        "```\n",
        "\n",
        "Or, if you're calling the API through your terminal using `cURL`, you can copy and paste this code to read your key from the environment variable.\n",
        "\n",
        "```\n",
        "curl \"https://generativelanguage.googleapis.com/v1beta/models/gemini-2.5-flash:generateContent?key=$GOOGLE_API_KEY\" \\\n",
        "    -H 'Content-Type: application/json' \\\n",
        "    -X POST \\\n",
        "    -d '{\n",
        "      \"contents\": [{\n",
        "        \"parts\":[{\n",
        "          \"text\": \"Please give me Python code to sort a list.\"\n",
        "        }]\n",
        "      }]\n",
        "    }'\n",
        "```\n"
      ]
    },
    {
      "cell_type": "markdown",
      "metadata": {
        "id": "CAOKOcax1xZY"
      },
      "source": [
        "## Learning more\n",
        "\n",
        "Now that you know how to manage your API key, you've everything to [get started](./Get_started.ipynb) with Gemini. Check all the [quickstart guides](https://github.com/google-gemini/cookbook/tree/main/quickstarts) from the Cookbook, and in particular the [Get started](./Get_started.ipynb) one."
      ]
    }
  ],
  "metadata": {
    "colab": {
      "name": "Authentication.ipynb",
      "provenance": [],
      "include_colab_link": true
    },
    "google": {
      "image_path": "/site-assets/images/share.png",
      "keywords": [
        "examples",
        "googleai",
        "samplecode",
        "python",
        "embed",
        "function"
      ]
    },
    "kernelspec": {
      "display_name": "Python 3",
      "name": "python3"
    }
  },
  "nbformat": 4,
  "nbformat_minor": 0
}